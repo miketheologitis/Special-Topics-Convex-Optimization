from math import log
import random
import numpy as np
import cvxpy as cp
from math import sqrt


import matplotlib.pyplot as plt
from matplotlib.backends.backend_pdf import PdfPages

plt.rcParams['font.size'] = 14.0
plt.rcParams['axes.labelsize'] = 22
plt.rcParams['axes.titlesize'] = 22
plt.rcParams['xtick.labelsize'] = 20
plt.rcParams['ytick.labelsize'] = 20
plt.rcParams['legend.fontsize'] = 18
plt.rcParams['axes.titleweight'] = 'bold'
plt.rcParams.update({'mathtext.default': 'regular' })


def create_sparse_vector(n, s):
    x = np.zeros(n)  # Initialize zero vector
    indices = np.random.permutation(n)[:s]  # Randomly select s indices
    x[indices] = np.random.randn(s)  # Assign random values at selected indices

    return x


def loss_fn(A, b, x):
    return cp.sum_squares(A @ x - b)

def lasso_regularizer(x):
    return cp.norm1(x)

def ridge_regularizer(x):
    return cp.sum_squares(x)

def lasso_objective_fn(A, b, x, lambd):
    return loss_fn(A, b, x) + lambd * lasso_regularizer(x)

def ridge_objective_fn(A, b, x, lambd):
    return loss_fn(A, b, x) + lambd * ridge_regularizer(x)








np.random.seed(44)
random.seed(44)


for m, n, s in [(27, 100, 6), (216, 1000, 34)]: # (216, 1000, 34)

    # Create Problem
    A = np.random.randn(m, n)
    x_s = create_sparse_vector(n, s)
    e = 0.01 * np.random.randn(m)
    b = A @ x_s + e


    # Solve with cvx
    x_lasso = cp.Variable(n)
    x_ridge = cp.Variable(n)

    lambd = cp.Parameter(nonneg=True)

    lasso_prob = cp.Problem(cp.Minimize(lasso_objective_fn(A, b, x_lasso, lambd)))
    ridge_prob = cp.Problem(cp.Minimize(ridge_objective_fn(A, b, x_ridge, lambd)))

    lambd_values = np.logspace(-4, 3, 30)

    lasso_err = []
    ridge_err = []

    for v in lambd_values:
        lambd.value = v

        lasso_prob.solve()
        ridge_prob.solve()

        lasso_err.append(np.linalg.norm(x_lasso.value - x_s, 2))
        ridge_err.append(np.linalg.norm(x_ridge.value - x_s, 2))



    pdf = PdfPages(f'plots/xerror_{m}_{n}.pdf')

    plt.figure(figsize=(6, 4))

    plt.plot(lambd_values, lasso_err, label="Lasso", marker='^')
    plt.plot(lambd_values, ridge_err, label="Ridge", marker='o')

    # Add grid
    plt.grid(True, linestyle='--', alpha=0.6)

    # Label the axes
    plt.xlabel('$\lambda$')
    plt.ylabel('$||x^* - x_s||_2$')

    plt.legend()

    plt.xscale('log')
    plt.yscale('log')

    plt.subplots_adjust(bottom=0.2, left=0.2)

    plt.title(f"m = {m} , n = {n} , s = {s}")

    pdf.savefig(plt.gcf()) # Save the current figure
    plt.show()
    plt.close()
    pdf.close()





def sgn(x):
    return np.where(x < 0, -1, 1)


def lasso_grad(A, x, b, lambd):
    return A.T @ (A @ x - b) + lambd * sgn(x)

def lasso_f(A, x, b, lambd):
    tmp = A @ x - b
    return 0.5 * np.dot(tmp, tmp) + lambd * np.linalg.norm(x, 1)


def lasso_subgradient_descent(A, x, b, lambd, f_opt, c):
    
    k = 0
    f = lasso_f(A, x, b, lambd)
    
    differences = []
    
    while f >= c * f_opt:
        
        grad = lasso_grad(A, x, b, lambd)
        
        x = x - (1 / (sqrt(k + 1) * np.linalg.norm(grad, 2))) * grad
            
        k += 1
        
        f = lasso_f(A, x, b, lambd)
        
        differences.append(f - f_opt)
                 
    return x, differences


np.random.seed(44)
random.seed(44)


for m, n, s in [(27, 100, 6), (216, 1000, 34)]: # (216, 1000, 34)

    # Create Problem
    A = np.random.randn(m, n)
    x_s = create_sparse_vector(n, s)
    e = 0.01 * np.random.randn(m)
    b = A @ x_s + e


    # Solve with cvx
    x_lasso = cp.Variable(n)
    lambd = cp.Parameter(nonneg=True)
    lasso_prob = cp.Problem(cp.Minimize(lasso_objective_fn(A, b, x_lasso, lambd)))

    lambd_values = [0.01, 0.1, 1., 10.]
    
    results = []

    for l in lambd_values:
        lambd.value = l

        lasso_prob.solve()

        lasso_err.append(np.linalg.norm(x_lasso.value - x_s, 2))

        x = np.zeros(n)
        f_opt = lasso_f(A, x_lasso.value, b, l)
        
        x_subgrad, differences = lasso_subgradient_descent(A, x, b, l, f_opt, 1.1)
        
        print(f'f_opt: {f_opt}, f: {lasso_f(A, x_subgrad, b, l)}')
        
        results.append(differences)
        
    
    pdf = PdfPages(f'plots/diff_{m}_{n}.pdf')
    plt.figure(figsize=(12, 3))
    
    for l, differences in zip(lambd_values, results):
        
        k = [i for i in range(len(differences))]

        plt.plot(k, differences, label=f"$\lambda$ = {l}")

    # Add grid
    plt.grid(True, linestyle='--', alpha=0.6)

    # Label the axes
    #plt.xlabel('$k$')
    plt.ylabel('$f_1(x^{(k)}) - f_{opt}$')

    plt.legend(ncols=2, loc='upper right')

    plt.xscale('log')
    plt.yscale('log')

    plt.subplots_adjust(bottom=0.24)

    plt.title(f"m = {m} , n = {n} , s = {s}")

    pdf.savefig(plt.gcf()) # Save the current figure
    plt.show()
    plt.close()
    pdf.close()
    
    





def T(x, tau):
    return np.sign(x) * np.maximum(np.abs(x) - tau, 0.0)


def ista(A, x, b, lambd, f_opt, c, L_k):
    
    lambda_L_k = lambd / L_k
    
    k = 0
    f = lasso_f(A, x, b, lambd)
    
    differences = []
    
    while f >= c * f_opt:

        x = T(
            x - (1 / L_k) * A.T @ (A @ x - b),
            lambda_L_k
        )
            
        k += 1
        
        f = lasso_f(A, x, b, lambd)
        
        differences.append(f - f_opt)
                 
    return x, differences


def fista(A, x, b, lambd, f_opt, c, L_k):
    
    lambda_L_k = lambd / L_k
    
    t = 1
    y = x
    
    k = 0
    f = lasso_f(A, x, b, lambd)
    
    differences = []
    
    while f >= c * f_opt:
        
        old_x = x

        x = T(
            y - (1 / L_k) * A.T @ (A @ y - b),
            lambda_L_k
        )

        old_t = t
        t = (1 + sqrt(1 + 4 * t**2)) / 2
        
        y = x + ((old_t - 1) / t ) * (x - old_x)
            
        k += 1
        
        f = lasso_f(A, x, b, lambd)
        
        differences.append(f - f_opt)
                 
    return x, differences











np.random.seed(44)
random.seed(44)


for m, n, s in [(27, 100, 6), (216, 1000, 34)]: # (216, 1000, 34)

    # Create Problem
    A = np.random.randn(m, n)
    x_s = create_sparse_vector(n, s)
    e = 0.01 * np.random.randn(m)
    b = A @ x_s + e

    L_k = np.max(np.linalg.eigvalsh(A.T @ A))
    
    # Solve with cvx
    x_lasso = cp.Variable(n)
    lambd = 0.1
    lasso_prob = cp.Problem(cp.Minimize(lasso_objective_fn(A, b, x_lasso, lambd)))

    lasso_prob.solve()

    x = np.zeros(n)
    f_opt = lasso_f(A, x_lasso.value, b, lambd)

    x_ista, differences_ista = ista(A, x, b, lambd, f_opt, 1.01, L_k)
    
    x_fista, differences_fista = fista(A, x, b, lambd, f_opt, 1.01, L_k)
    
    x_subgrad, differences_subgrad = lasso_subgradient_descent(A, x, b, lambd, f_opt, 1.01)

    print(f'f_opt: {f_opt}, f: {lasso_f(A, x_ista, b, lambd)}')
        
    
    pdf = PdfPages(f'plots/ista_fista_diff_{m}_{n}.pdf')
    plt.figure(figsize=(12, 3.5))
        
    k_ista = [i for i in range(len(differences_ista))]
    k_fista = [i for i in range(len(differences_fista))]
    k_subgrad = [i for i in range(len(differences_subgrad))]

    plt.plot(k_ista, differences_ista, label=f"ISTA", marker="^", markevery=0.1, ms=10)
    
    plt.plot(k_fista, differences_fista, label=f"FISTA", marker="d", markevery=0.1, ms=10)
    
    plt.plot(k_subgrad, differences_subgrad, label=f"SubGrad")
    
    print(f"ISTA: {len(k_ista)}, FISTA: {len(k_fista)}, SubGrad: {len(k_subgrad)}")

    # Add grid
    plt.grid(True, linestyle='--', alpha=0.6)

    # Label the axes
    plt.xlabel('$k$')
    plt.ylabel('$f_1(x^{(k)}) - f_{opt}$')

    #plt.legend(ncols=2, loc='upper right')
    plt.legend()

    plt.xscale('log')
    plt.yscale('log')

    plt.subplots_adjust(bottom=0.24)

    plt.title(f"m = {m} , n = {n} , s = {s}")

    pdf.savefig(plt.gcf()) # Save the current figure
    plt.show()
    plt.close()
    pdf.close()






