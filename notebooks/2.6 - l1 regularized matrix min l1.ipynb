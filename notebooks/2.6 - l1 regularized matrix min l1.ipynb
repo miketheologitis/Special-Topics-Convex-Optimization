{
 "cells": [
  {
   "cell_type": "code",
   "execution_count": 1,
   "id": "c2516a53-9891-4993-b024-2ac61fd0ecfc",
   "metadata": {
    "tags": []
   },
   "outputs": [],
   "source": [
    "from math import log\n",
    "import random\n",
    "import numpy as np\n",
    "import cvxpy as cp\n",
    "from math import sqrt"
   ]
  },
  {
   "cell_type": "code",
   "execution_count": 2,
   "id": "2ae47bf1-a431-477e-a705-fa840da2a86d",
   "metadata": {
    "tags": []
   },
   "outputs": [],
   "source": [
    "import matplotlib.pyplot as plt\n",
    "from matplotlib.backends.backend_pdf import PdfPages\n",
    "\n",
    "plt.rcParams['font.size'] = 14.0\n",
    "plt.rcParams['axes.labelsize'] = 22\n",
    "plt.rcParams['axes.titlesize'] = 22\n",
    "plt.rcParams['xtick.labelsize'] = 20\n",
    "plt.rcParams['ytick.labelsize'] = 20\n",
    "plt.rcParams['legend.fontsize'] = 18\n",
    "plt.rcParams['axes.titleweight'] = 'bold'\n",
    "plt.rcParams.update({'mathtext.default': 'regular' })"
   ]
  },
  {
   "cell_type": "code",
   "execution_count": null,
   "id": "5819208e-961d-4f0d-ab2f-d4c89c225667",
   "metadata": {},
   "outputs": [],
   "source": []
  },
  {
   "cell_type": "code",
   "execution_count": null,
   "id": "df8250aa-f44a-44f7-9f57-a91260a03ab2",
   "metadata": {},
   "outputs": [],
   "source": []
  },
  {
   "cell_type": "code",
   "execution_count": 3,
   "id": "9ada0431-63f7-4c59-87fb-036f9cee9834",
   "metadata": {
    "tags": []
   },
   "outputs": [],
   "source": [
    "x = np.random.randn(100)"
   ]
  },
  {
   "cell_type": "code",
   "execution_count": null,
   "id": "1a7411a0-5a06-466e-9af9-7b10c5abfa93",
   "metadata": {},
   "outputs": [],
   "source": []
  },
  {
   "cell_type": "code",
   "execution_count": null,
   "id": "0489dbc3-2a89-479c-b858-e1d8aab473be",
   "metadata": {},
   "outputs": [],
   "source": []
  },
  {
   "cell_type": "code",
   "execution_count": 6,
   "id": "43870534-37f4-4157-a8c0-608ae2fc6778",
   "metadata": {
    "tags": []
   },
   "outputs": [],
   "source": [
    "def T(x, tau):\n",
    "    return np.sign(x) * np.maximum(np.abs(x) - tau, 0.0)"
   ]
  },
  {
   "cell_type": "code",
   "execution_count": null,
   "id": "c76abf74-ac26-4dff-8587-99a9721d3259",
   "metadata": {},
   "outputs": [],
   "source": [
    "def T(x, tau):\n",
    "    return np.sign(x) * np.maximum(np.abs(x) - tau, 0.0)"
   ]
  },
  {
   "cell_type": "code",
   "execution_count": 20,
   "id": "918e1554-1a01-4041-b7b6-2464e5aa0634",
   "metadata": {
    "tags": []
   },
   "outputs": [
    {
     "data": {
      "text/plain": [
       "array([ True,  True,  True,  True,  True,  True,  True,  True,  True,\n",
       "        True,  True,  True,  True,  True,  True,  True,  True,  True,\n",
       "        True,  True,  True,  True,  True,  True,  True,  True,  True,\n",
       "        True,  True,  True,  True,  True,  True,  True,  True,  True,\n",
       "        True,  True,  True,  True,  True,  True,  True,  True,  True,\n",
       "        True,  True,  True,  True,  True,  True,  True,  True,  True,\n",
       "        True,  True,  True,  True,  True,  True,  True,  True,  True,\n",
       "        True,  True,  True,  True,  True,  True,  True,  True,  True,\n",
       "        True,  True,  True,  True,  True,  True,  True,  True,  True,\n",
       "        True,  True,  True,  True,  True,  True,  True,  True,  True,\n",
       "        True,  True,  True,  True,  True,  True,  True,  True,  True,\n",
       "        True])"
      ]
     },
     "execution_count": 20,
     "metadata": {},
     "output_type": "execute_result"
    }
   ],
   "source": [
    "T(x, 3) == T(T(x, 1.5), 1.5)"
   ]
  },
  {
   "cell_type": "code",
   "execution_count": null,
   "id": "bff5798a-3b69-4a17-8c28-46d7fb2e1c15",
   "metadata": {},
   "outputs": [],
   "source": []
  }
 ],
 "metadata": {
  "kernelspec": {
   "display_name": "Python [conda env:convex]",
   "language": "python",
   "name": "conda-env-convex-py"
  },
  "language_info": {
   "codemirror_mode": {
    "name": "ipython",
    "version": 3
   },
   "file_extension": ".py",
   "mimetype": "text/x-python",
   "name": "python",
   "nbconvert_exporter": "python",
   "pygments_lexer": "ipython3",
   "version": "3.12.9"
  }
 },
 "nbformat": 4,
 "nbformat_minor": 5
}
