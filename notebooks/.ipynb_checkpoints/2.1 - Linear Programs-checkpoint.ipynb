{
 "cells": [
  {
   "cell_type": "code",
   "execution_count": 1,
   "id": "d9a71a32-1f08-4818-828f-e0a9478d4fd1",
   "metadata": {
    "tags": []
   },
   "outputs": [],
   "source": [
    "from math import log\n",
    "import random\n",
    "import numpy as np\n",
    "import cvxpy as cp\n",
    "\n",
    "np.random.seed(42)\n",
    "random.seed(42)"
   ]
  },
  {
   "cell_type": "markdown",
   "id": "d82fdfab-65e0-4a04-9568-56bc14b0bda1",
   "metadata": {},
   "source": [
    "$A \\in \\mathbb{R}^{m \\times n}$ and $x_s \\in \\mathbb{R}^n$ with $s$ number of nonzero elements. Let $m \\gtrapprox 2s \\log (n) \\ll n$"
   ]
  },
  {
   "cell_type": "code",
   "execution_count": 2,
   "id": "8562f9ff-fa0f-45e3-b4a7-407503e17145",
   "metadata": {},
   "outputs": [],
   "source": [
    "m = 27\n",
    "n = 100\n",
    "s = 6  # number of nonzero elements of x"
   ]
  },
  {
   "cell_type": "code",
   "execution_count": null,
   "id": "6d966dfd-c845-4160-af27-7a940abdd49f",
   "metadata": {},
   "outputs": [],
   "source": [
    "def create_sparse_vector(n, s):\n",
    "    x = np.zeros(n)  # Initialize zero vector\n",
    "    indices = np.random.permutation(n)[:s]  # Randomly select s indices\n",
    "    x[indices] = np.random.randn(s)  # Assign random values at selected indices\n",
    "\n",
    "    return x"
   ]
  },
  {
   "cell_type": "code",
   "execution_count": null,
   "id": "9c526168-0ede-4250-b52a-d67ec9838cb3",
   "metadata": {},
   "outputs": [],
   "source": [
    "def loss_fn(A, b, x):\n",
    "    return cp.sum_squares(A @ x - b)\n",
    "\n",
    "def lasso_regularizer(x):\n",
    "    return cp.norm1(x)\n",
    "\n",
    "def ridge_regularizer(x):\n",
    "    return cp.sum_squares(x)\n",
    "\n",
    "def lasso_objective_fn(A, b, x, lambd):\n",
    "    return loss_fn(A, b, x) + lambd * lasso_regularizer(x)\n",
    "\n",
    "def ridge_objective_fn(A, b, x, lambd):\n",
    "    return loss_fn(A, b, x) + lambd * ridge_regularizer(x)"
   ]
  },
  {
   "cell_type": "markdown",
   "id": "3f05e7fe-f548-420c-9363-cfbef61d6219",
   "metadata": {},
   "source": [
    "## CVX"
   ]
  },
  {
   "cell_type": "code",
   "execution_count": null,
   "id": "df3d5dd0-f801-4ae3-9ee8-7949ab6fbf15",
   "metadata": {},
   "outputs": [],
   "source": []
  },
  {
   "cell_type": "code",
   "execution_count": null,
   "id": "0225c875-608a-4490-b69b-b95fc2d13c6b",
   "metadata": {},
   "outputs": [],
   "source": []
  },
  {
   "cell_type": "code",
   "execution_count": 31,
   "id": "df0e817f-7457-4106-acad-741debef9410",
   "metadata": {
    "tags": []
   },
   "outputs": [],
   "source": [
    "# Create Problem\n",
    "A = np.random.randn(m, n)\n",
    "x_s = create_sparse_vector(n, s)\n",
    "e = 0.01 * np.random.randn(m)\n",
    "b = A @ x_s + e\n",
    "\n",
    "\n",
    "# Solve with cvx\n",
    "x_lasso = cp.Variable(n)\n",
    "x_ridge = cp.Variable(n)\n",
    "\n",
    "lambd = cp.Parameter(nonneg=True)\n",
    "\n",
    "lasso_prob = cp.Problem(cp.Minimize(lasso_objective_fn(A, b, x_lasso, lambd)))\n",
    "ridge_prob = cp.Problem(cp.Minimize(ridge_objective_fn(A, b, x_ridge, lambd)))\n",
    "\n",
    "lambd_values = np.logspace(-4, 3, 30)\n",
    "\n",
    "lasso_err = []\n",
    "ridge_err = []\n",
    "\n",
    "for v in lambd_values:\n",
    "    lambd.value = v\n",
    "    \n",
    "    lasso_prob.solve()\n",
    "    ridge_prob.solve()\n",
    "    \n",
    "    lasso_err.append(np.linalg.norm(x_lasso.value - x_s, 2))\n",
    "    ridge_err.append(np.linalg.norm(x_ridge.value - x_s, 2))"
   ]
  },
  {
   "cell_type": "code",
   "execution_count": 32,
   "id": "f57620dd-0f1f-45d2-b2f3-8fbabb2dfd55",
   "metadata": {
    "tags": []
   },
   "outputs": [
    {
     "data": {
      "text/plain": [
       "[np.float64(0.028031997510836078),\n",
       " np.float64(0.0267676722499604),\n",
       " np.float64(0.02803379146343912),\n",
       " np.float64(0.028285961321876225),\n",
       " np.float64(0.027849984051954435),\n",
       " np.float64(0.026894748834145436),\n",
       " np.float64(0.027506729945697816),\n",
       " np.float64(0.027003839846466374),\n",
       " np.float64(0.026957639553437832),\n",
       " np.float64(0.024863852492534515),\n",
       " np.float64(0.023284859141074535),\n",
       " np.float64(0.02018314346871973),\n",
       " np.float64(0.019882673743747237),\n",
       " np.float64(0.023651304280983713),\n",
       " np.float64(0.031227902958015856),\n",
       " np.float64(0.049849303596169715),\n",
       " np.float64(0.0876991198560876),\n",
       " np.float64(0.15569928240755865),\n",
       " np.float64(0.27448040516643324),\n",
       " np.float64(0.4822376625599331),\n",
       " np.float64(0.8455619804859842),\n",
       " np.float64(1.2330199949948317),\n",
       " np.float64(1.3201411821736424),\n",
       " np.float64(1.5334698127810986),\n",
       " np.float64(1.6808707043445286),\n",
       " np.float64(1.680870704224427),\n",
       " np.float64(1.6808707042243902),\n",
       " np.float64(1.6808707042243909),\n",
       " np.float64(1.680870704224391),\n",
       " np.float64(1.68087070422439)]"
      ]
     },
     "execution_count": 32,
     "metadata": {},
     "output_type": "execute_result"
    }
   ],
   "source": [
    "lasso_err"
   ]
  },
  {
   "cell_type": "code",
   "execution_count": 30,
   "id": "02277409-a8dc-4e04-87f5-c4f40a07f949",
   "metadata": {
    "tags": []
   },
   "outputs": [
    {
     "data": {
      "text/plain": [
       "[np.float64(2.204210461384102),\n",
       " np.float64(2.2042104624935264),\n",
       " np.float64(2.204210462865448),\n",
       " np.float64(2.204210463347013),\n",
       " np.float64(2.204210464187885),\n",
       " np.float64(2.2042104657137083),\n",
       " np.float64(2.204210468561859),\n",
       " np.float64(2.204210474099451),\n",
       " np.float64(2.204210485492151),\n",
       " np.float64(2.2042105106347067),\n",
       " np.float64(2.2042105704994865),\n",
       " np.float64(2.204210723495996),\n",
       " np.float64(2.2042111375210798),\n",
       " np.float64(2.2042123043378252),\n",
       " np.float64(2.204215677155638),\n",
       " np.float64(2.2042255532806583),\n",
       " np.float64(2.2042545437808045),\n",
       " np.float64(2.204338990019951),\n",
       " np.float64(2.204580141971988),\n",
       " np.float64(2.2052443037008396),\n",
       " np.float64(2.2069695362508477),\n",
       " np.float64(2.2110813507371074),\n",
       " np.float64(2.2198256775787466),\n",
       " np.float64(2.236089364884433),\n",
       " np.float64(2.2622965020726964),\n",
       " np.float64(2.298621382659031),\n",
       " np.float64(2.3414472310050036),\n",
       " np.float64(2.3841418206434817),\n",
       " np.float64(2.4205366472990404),\n",
       " np.float64(2.4477938649732827)]"
      ]
     },
     "execution_count": 30,
     "metadata": {},
     "output_type": "execute_result"
    }
   ],
   "source": [
    "ridge_err"
   ]
  },
  {
   "cell_type": "code",
   "execution_count": null,
   "id": "c8be9b8f-7d6e-446e-8126-18671ccab0bd",
   "metadata": {},
   "outputs": [],
   "source": []
  },
  {
   "cell_type": "code",
   "execution_count": 33,
   "id": "e48516e9-803c-482c-8cb9-ce087896b8c4",
   "metadata": {
    "tags": []
   },
   "outputs": [
    {
     "name": "stdout",
     "output_type": "stream",
     "text": [
      "Rank of A: 27\n"
     ]
    }
   ],
   "source": [
    "print(\"Rank of A:\", np.linalg.matrix_rank(A))"
   ]
  },
  {
   "cell_type": "code",
   "execution_count": 31,
   "id": "a9a5e763-e0b8-4e78-8d48-0dca75303483",
   "metadata": {
    "tags": []
   },
   "outputs": [],
   "source": [
    "A = np.random.randn(m, n)"
   ]
  },
  {
   "cell_type": "code",
   "execution_count": null,
   "id": "aab93472-6ca9-4fb9-847e-83e6ead4e73f",
   "metadata": {},
   "outputs": [],
   "source": []
  }
 ],
 "metadata": {
  "kernelspec": {
   "display_name": "Python [conda env:convex]",
   "language": "python",
   "name": "conda-env-convex-py"
  },
  "language_info": {
   "codemirror_mode": {
    "name": "ipython",
    "version": 3
   },
   "file_extension": ".py",
   "mimetype": "text/x-python",
   "name": "python",
   "nbconvert_exporter": "python",
   "pygments_lexer": "ipython3",
   "version": "3.12.9"
  }
 },
 "nbformat": 4,
 "nbformat_minor": 5
}
